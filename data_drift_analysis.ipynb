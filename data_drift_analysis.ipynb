{
 "cells": [
  {
   "cell_type": "markdown",
   "id": "740cb959",
   "metadata": {},
   "source": [
    "# Librairies"
   ]
  },
  {
   "cell_type": "code",
   "execution_count": 1,
   "id": "b62bfbcd",
   "metadata": {},
   "outputs": [],
   "source": [
    "import pandas as pd\n",
    "import numpy as np\n",
    "\n",
    "import evidently\n",
    "from evidently import ColumnMapping\n",
    "\n",
    "from evidently.test_suite import TestSuite\n",
    "from evidently.test_preset import NoTargetPerformanceTestPreset\n",
    "\n",
    "import shap\n",
    "\n",
    "import joblib"
   ]
  },
  {
   "cell_type": "code",
   "execution_count": 2,
   "id": "03cfc08e",
   "metadata": {},
   "outputs": [],
   "source": [
    "import warnings\n",
    "warnings.filterwarnings(\"ignore\")\n",
    "warnings.simplefilter(\"ignore\")"
   ]
  },
  {
   "cell_type": "markdown",
   "id": "0e2f95bb",
   "metadata": {},
   "source": [
    "# Chargement des données\n",
    "\n",
    "Il s'agit du dataset déja préprocessé suivant le même processus détaillé dans le notebook entrainement_du_modèle.ipynb\n",
    "\n",
    "Une dernière colonne **prediction** a déja été ajoutée à la fin du dataset et correspond au score de la classe 1 retourné par notre modèle final."
   ]
  },
  {
   "cell_type": "code",
   "execution_count": 3,
   "id": "b5716dd8",
   "metadata": {},
   "outputs": [],
   "source": [
    "df = pd.read_csv(\"../input/data_cleaned.csv\", index_col=\"SK_ID_CURR\")"
   ]
  },
  {
   "cell_type": "markdown",
   "id": "e11756d6",
   "metadata": {},
   "source": [
    "# Sélection des variables les plus importantes\n",
    "\n",
    "Nous n'évaluerons le Data Drift que sur les 30 features les plus importantes du modèle."
   ]
  },
  {
   "cell_type": "code",
   "execution_count": 4,
   "id": "c41edcbd",
   "metadata": {
    "scrolled": false
   },
   "outputs": [
    {
     "data": {
      "text/plain": [
       "['EXT_SOURCE_2',\n",
       " 'EXT_SOURCE_3',\n",
       " 'EXT_SOURCE_1',\n",
       " 'PREV_NEW_RETURN_DAY_MAX',\n",
       " 'NEW_PAYMENT_RATE',\n",
       " 'CODE_GENDER',\n",
       " 'NEW_LOAN_VALUE_RATIO',\n",
       " 'DAYS_EMPLOYED',\n",
       " 'OWN_CAR_AGE',\n",
       " 'AMT_CREDIT',\n",
       " 'NEW_ANNUITY_INCOME_PERC',\n",
       " 'NAME_FAMILY_STATUS_Married',\n",
       " 'NAME_EDUCATION_TYPE_Highereducation',\n",
       " 'INSTAL_AMT_PAYMENT_SUM',\n",
       " 'INSTAL_DPD_MEAN',\n",
       " 'PREV_NEW_DAYS_DUE_DIFF_MEAN',\n",
       " 'DAYS_BIRTH',\n",
       " 'BURO_DAYS_CREDIT_MEAN',\n",
       " 'INSTAL_AMT_INSTALMENT_SUM',\n",
       " 'PREV_PRODUCT_COMBINATION_CashXSelllow_MEAN',\n",
       " 'DAYS_ID_PUBLISH',\n",
       " 'NEW_WORKING_YEAR_RANGE',\n",
       " 'INSTAL_DPD_MAX',\n",
       " 'POS_MONTHS_BALANCE_MAX',\n",
       " 'ACTIVE_DAYS_CREDIT_ENDDATE_MIN',\n",
       " 'INSTAL_PAYMENT_DIFF_MEAN',\n",
       " 'PREV_RATE_DOWN_PAYMENT_MAX',\n",
       " 'INSTAL_DAYS_ENTRY_PAYMENT_MAX',\n",
       " 'ACTIVE_DAYS_CREDIT_ENDDATE_MAX',\n",
       " 'PREV_PRODUCT_COMBINATION_POSindustrywithinterest_MEAN']"
      ]
     },
     "execution_count": 4,
     "metadata": {},
     "output_type": "execute_result"
    }
   ],
   "source": [
    "model = joblib.load(\"model.pkl\")\n",
    "background_data = df.iloc[:307505, :-1]\n",
    "explainer = shap.TreeExplainer(model)\n",
    "\n",
    "# Absolute values of shapley values\n",
    "shap_values = explainer.shap_values(background_data)\n",
    "shap_values = np.abs(shap_values[1])\n",
    "\n",
    "# Get the average shap value of each feature and sort them\n",
    "shap_values = pd.DataFrame(\n",
    "    shap_values, \n",
    "    index=background_data.index,\n",
    "    columns=background_data.columns\n",
    ")\n",
    "shap_values = pd.DataFrame({\n",
    "    \"feature\": shap_values.mean(0).index, \n",
    "    \"shap_values\": shap_values.mean(0).values\n",
    "            })\n",
    "shap_values = shap_values.sort_values(\"shap_values\", ascending=False)\n",
    "\n",
    "# Get the 50 first features\n",
    "most_important_features = shap_values.iloc[:30, 0].values.tolist()\n",
    "most_important_features"
   ]
  },
  {
   "cell_type": "code",
   "execution_count": 5,
   "id": "055d8a72",
   "metadata": {},
   "outputs": [],
   "source": [
    "df = df.loc[:, [*most_important_features, \"prediction\"]]"
   ]
  },
  {
   "cell_type": "markdown",
   "id": "e28dd3be",
   "metadata": {},
   "source": [
    "# Report"
   ]
  },
  {
   "cell_type": "code",
   "execution_count": 6,
   "id": "a510dfa1",
   "metadata": {},
   "outputs": [],
   "source": [
    "nunique = df.nunique()\n",
    "\n",
    "num_features = nunique[nunique>2].index.tolist()\n",
    "num_features.remove(\"prediction\")\n",
    "\n",
    "cat_features = nunique[nunique==2].index.tolist()\n",
    "df[cat_features] = df[cat_features].astype(\"object\")\n",
    "\n",
    "column_mapping = ColumnMapping()\n",
    "column_mapping.numerical_features = num_features\n",
    "column_mapping.categorical_features = cat_features\n",
    "column_mapping.prediction = 'prediction'"
   ]
  },
  {
   "cell_type": "markdown",
   "id": "3d2a3d69",
   "metadata": {},
   "source": [
    "Le jeu de données contient 356249 individus : \n",
    "- Les 307505 premiers individus correspondent aux clients du dataset application_train.csv\n",
    "- Les 48744 derniers individus correspondent à ceux du dataset application_test.csv\n",
    "\n",
    "Pour éviter d'avoir un fichier trop volumineux, les tests ne seront réalisés que sur des échantillons de 10000 individus. "
   ]
  },
  {
   "cell_type": "code",
   "execution_count": 10,
   "id": "fbd963c2",
   "metadata": {},
   "outputs": [],
   "source": [
    "reference = df.iloc[:307505, :].sample(n=10000, replace=False, random_state=42)\n",
    "current = df.iloc[307505:, :].sample(n=10000, replace=False, random_state=42)"
   ]
  },
  {
   "cell_type": "code",
   "execution_count": 11,
   "id": "0aac0d19",
   "metadata": {},
   "outputs": [],
   "source": [
    "report = TestSuite(tests=[\n",
    "   NoTargetPerformanceTestPreset()\n",
    "])\n",
    "report.run(reference_data=reference, current_data=current)"
   ]
  },
  {
   "cell_type": "code",
   "execution_count": 12,
   "id": "68cce205",
   "metadata": {},
   "outputs": [],
   "source": [
    "report.save_html(\"data-drift-analysis.html\")"
   ]
  }
 ],
 "metadata": {
  "kernelspec": {
   "display_name": "Python 3 (ipykernel)",
   "language": "python",
   "name": "python3"
  },
  "language_info": {
   "codemirror_mode": {
    "name": "ipython",
    "version": 3
   },
   "file_extension": ".py",
   "mimetype": "text/x-python",
   "name": "python",
   "nbconvert_exporter": "python",
   "pygments_lexer": "ipython3",
   "version": "3.10.9"
  }
 },
 "nbformat": 4,
 "nbformat_minor": 5
}
